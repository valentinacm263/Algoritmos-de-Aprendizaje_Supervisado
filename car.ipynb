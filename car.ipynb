{
 "cells": [
  {
   "cell_type": "code",
   "execution_count": 15,
   "id": "0ad617f2-3170-433d-9474-3851dc6b23d3",
   "metadata": {},
   "outputs": [
    {
     "data": {
      "text/html": [
       "<div>\n",
       "<style scoped>\n",
       "    .dataframe tbody tr th:only-of-type {\n",
       "        vertical-align: middle;\n",
       "    }\n",
       "\n",
       "    .dataframe tbody tr th {\n",
       "        vertical-align: top;\n",
       "    }\n",
       "\n",
       "    .dataframe thead th {\n",
       "        text-align: right;\n",
       "    }\n",
       "</style>\n",
       "<table border=\"1\" class=\"dataframe\">\n",
       "  <thead>\n",
       "    <tr style=\"text-align: right;\">\n",
       "      <th></th>\n",
       "      <th>name</th>\n",
       "      <th>year</th>\n",
       "      <th>selling_price</th>\n",
       "      <th>km_driven</th>\n",
       "      <th>fuel</th>\n",
       "      <th>seller_type</th>\n",
       "      <th>transmission</th>\n",
       "      <th>owner</th>\n",
       "      <th>mileage</th>\n",
       "      <th>engine</th>\n",
       "      <th>max_power</th>\n",
       "      <th>torque</th>\n",
       "      <th>seats</th>\n",
       "    </tr>\n",
       "  </thead>\n",
       "  <tbody>\n",
       "    <tr>\n",
       "      <th>0</th>\n",
       "      <td>Maruti Swift Dzire VDI</td>\n",
       "      <td>2014</td>\n",
       "      <td>450000</td>\n",
       "      <td>145500</td>\n",
       "      <td>Diesel</td>\n",
       "      <td>Individual</td>\n",
       "      <td>Manual</td>\n",
       "      <td>First Owner</td>\n",
       "      <td>23.4 kmpl</td>\n",
       "      <td>1248 CC</td>\n",
       "      <td>74 bhp</td>\n",
       "      <td>190Nm@ 2000rpm</td>\n",
       "      <td>5.0</td>\n",
       "    </tr>\n",
       "    <tr>\n",
       "      <th>1</th>\n",
       "      <td>Skoda Rapid 1.5 TDI Ambition</td>\n",
       "      <td>2014</td>\n",
       "      <td>370000</td>\n",
       "      <td>120000</td>\n",
       "      <td>Diesel</td>\n",
       "      <td>Individual</td>\n",
       "      <td>Manual</td>\n",
       "      <td>Second Owner</td>\n",
       "      <td>21.14 kmpl</td>\n",
       "      <td>1498 CC</td>\n",
       "      <td>103.52 bhp</td>\n",
       "      <td>250Nm@ 1500-2500rpm</td>\n",
       "      <td>5.0</td>\n",
       "    </tr>\n",
       "    <tr>\n",
       "      <th>2</th>\n",
       "      <td>Honda City 2017-2020 EXi</td>\n",
       "      <td>2006</td>\n",
       "      <td>158000</td>\n",
       "      <td>140000</td>\n",
       "      <td>Petrol</td>\n",
       "      <td>Individual</td>\n",
       "      <td>Manual</td>\n",
       "      <td>Third Owner</td>\n",
       "      <td>17.7 kmpl</td>\n",
       "      <td>1497 CC</td>\n",
       "      <td>78 bhp</td>\n",
       "      <td>12.7@ 2,700(kgm@ rpm)</td>\n",
       "      <td>5.0</td>\n",
       "    </tr>\n",
       "    <tr>\n",
       "      <th>3</th>\n",
       "      <td>Hyundai i20 Sportz Diesel</td>\n",
       "      <td>2010</td>\n",
       "      <td>225000</td>\n",
       "      <td>127000</td>\n",
       "      <td>Diesel</td>\n",
       "      <td>Individual</td>\n",
       "      <td>Manual</td>\n",
       "      <td>First Owner</td>\n",
       "      <td>23.0 kmpl</td>\n",
       "      <td>1396 CC</td>\n",
       "      <td>90 bhp</td>\n",
       "      <td>22.4 kgm at 1750-2750rpm</td>\n",
       "      <td>5.0</td>\n",
       "    </tr>\n",
       "    <tr>\n",
       "      <th>4</th>\n",
       "      <td>Maruti Swift VXI BSIII</td>\n",
       "      <td>2007</td>\n",
       "      <td>130000</td>\n",
       "      <td>120000</td>\n",
       "      <td>Petrol</td>\n",
       "      <td>Individual</td>\n",
       "      <td>Manual</td>\n",
       "      <td>First Owner</td>\n",
       "      <td>16.1 kmpl</td>\n",
       "      <td>1298 CC</td>\n",
       "      <td>88.2 bhp</td>\n",
       "      <td>11.5@ 4,500(kgm@ rpm)</td>\n",
       "      <td>5.0</td>\n",
       "    </tr>\n",
       "    <tr>\n",
       "      <th>...</th>\n",
       "      <td>...</td>\n",
       "      <td>...</td>\n",
       "      <td>...</td>\n",
       "      <td>...</td>\n",
       "      <td>...</td>\n",
       "      <td>...</td>\n",
       "      <td>...</td>\n",
       "      <td>...</td>\n",
       "      <td>...</td>\n",
       "      <td>...</td>\n",
       "      <td>...</td>\n",
       "      <td>...</td>\n",
       "      <td>...</td>\n",
       "    </tr>\n",
       "    <tr>\n",
       "      <th>8123</th>\n",
       "      <td>Hyundai i20 Magna</td>\n",
       "      <td>2013</td>\n",
       "      <td>320000</td>\n",
       "      <td>110000</td>\n",
       "      <td>Petrol</td>\n",
       "      <td>Individual</td>\n",
       "      <td>Manual</td>\n",
       "      <td>First Owner</td>\n",
       "      <td>18.5 kmpl</td>\n",
       "      <td>1197 CC</td>\n",
       "      <td>82.85 bhp</td>\n",
       "      <td>113.7Nm@ 4000rpm</td>\n",
       "      <td>5.0</td>\n",
       "    </tr>\n",
       "    <tr>\n",
       "      <th>8124</th>\n",
       "      <td>Hyundai Verna CRDi SX</td>\n",
       "      <td>2007</td>\n",
       "      <td>135000</td>\n",
       "      <td>119000</td>\n",
       "      <td>Diesel</td>\n",
       "      <td>Individual</td>\n",
       "      <td>Manual</td>\n",
       "      <td>Fourth &amp; Above Owner</td>\n",
       "      <td>16.8 kmpl</td>\n",
       "      <td>1493 CC</td>\n",
       "      <td>110 bhp</td>\n",
       "      <td>24@ 1,900-2,750(kgm@ rpm)</td>\n",
       "      <td>5.0</td>\n",
       "    </tr>\n",
       "    <tr>\n",
       "      <th>8125</th>\n",
       "      <td>Maruti Swift Dzire ZDi</td>\n",
       "      <td>2009</td>\n",
       "      <td>382000</td>\n",
       "      <td>120000</td>\n",
       "      <td>Diesel</td>\n",
       "      <td>Individual</td>\n",
       "      <td>Manual</td>\n",
       "      <td>First Owner</td>\n",
       "      <td>19.3 kmpl</td>\n",
       "      <td>1248 CC</td>\n",
       "      <td>73.9 bhp</td>\n",
       "      <td>190Nm@ 2000rpm</td>\n",
       "      <td>5.0</td>\n",
       "    </tr>\n",
       "    <tr>\n",
       "      <th>8126</th>\n",
       "      <td>Tata Indigo CR4</td>\n",
       "      <td>2013</td>\n",
       "      <td>290000</td>\n",
       "      <td>25000</td>\n",
       "      <td>Diesel</td>\n",
       "      <td>Individual</td>\n",
       "      <td>Manual</td>\n",
       "      <td>First Owner</td>\n",
       "      <td>23.57 kmpl</td>\n",
       "      <td>1396 CC</td>\n",
       "      <td>70 bhp</td>\n",
       "      <td>140Nm@ 1800-3000rpm</td>\n",
       "      <td>5.0</td>\n",
       "    </tr>\n",
       "    <tr>\n",
       "      <th>8127</th>\n",
       "      <td>Tata Indigo CR4</td>\n",
       "      <td>2013</td>\n",
       "      <td>290000</td>\n",
       "      <td>25000</td>\n",
       "      <td>Diesel</td>\n",
       "      <td>Individual</td>\n",
       "      <td>Manual</td>\n",
       "      <td>First Owner</td>\n",
       "      <td>23.57 kmpl</td>\n",
       "      <td>1396 CC</td>\n",
       "      <td>70 bhp</td>\n",
       "      <td>140Nm@ 1800-3000rpm</td>\n",
       "      <td>5.0</td>\n",
       "    </tr>\n",
       "  </tbody>\n",
       "</table>\n",
       "<p>8128 rows × 13 columns</p>\n",
       "</div>"
      ],
      "text/plain": [
       "                              name  year  selling_price  km_driven    fuel  \\\n",
       "0           Maruti Swift Dzire VDI  2014         450000     145500  Diesel   \n",
       "1     Skoda Rapid 1.5 TDI Ambition  2014         370000     120000  Diesel   \n",
       "2         Honda City 2017-2020 EXi  2006         158000     140000  Petrol   \n",
       "3        Hyundai i20 Sportz Diesel  2010         225000     127000  Diesel   \n",
       "4           Maruti Swift VXI BSIII  2007         130000     120000  Petrol   \n",
       "...                            ...   ...            ...        ...     ...   \n",
       "8123             Hyundai i20 Magna  2013         320000     110000  Petrol   \n",
       "8124         Hyundai Verna CRDi SX  2007         135000     119000  Diesel   \n",
       "8125        Maruti Swift Dzire ZDi  2009         382000     120000  Diesel   \n",
       "8126               Tata Indigo CR4  2013         290000      25000  Diesel   \n",
       "8127               Tata Indigo CR4  2013         290000      25000  Diesel   \n",
       "\n",
       "     seller_type transmission                 owner     mileage   engine  \\\n",
       "0     Individual       Manual           First Owner   23.4 kmpl  1248 CC   \n",
       "1     Individual       Manual          Second Owner  21.14 kmpl  1498 CC   \n",
       "2     Individual       Manual           Third Owner   17.7 kmpl  1497 CC   \n",
       "3     Individual       Manual           First Owner   23.0 kmpl  1396 CC   \n",
       "4     Individual       Manual           First Owner   16.1 kmpl  1298 CC   \n",
       "...          ...          ...                   ...         ...      ...   \n",
       "8123  Individual       Manual           First Owner   18.5 kmpl  1197 CC   \n",
       "8124  Individual       Manual  Fourth & Above Owner   16.8 kmpl  1493 CC   \n",
       "8125  Individual       Manual           First Owner   19.3 kmpl  1248 CC   \n",
       "8126  Individual       Manual           First Owner  23.57 kmpl  1396 CC   \n",
       "8127  Individual       Manual           First Owner  23.57 kmpl  1396 CC   \n",
       "\n",
       "       max_power                     torque  seats  \n",
       "0         74 bhp             190Nm@ 2000rpm    5.0  \n",
       "1     103.52 bhp        250Nm@ 1500-2500rpm    5.0  \n",
       "2         78 bhp      12.7@ 2,700(kgm@ rpm)    5.0  \n",
       "3         90 bhp   22.4 kgm at 1750-2750rpm    5.0  \n",
       "4       88.2 bhp      11.5@ 4,500(kgm@ rpm)    5.0  \n",
       "...          ...                        ...    ...  \n",
       "8123   82.85 bhp           113.7Nm@ 4000rpm    5.0  \n",
       "8124     110 bhp  24@ 1,900-2,750(kgm@ rpm)    5.0  \n",
       "8125    73.9 bhp             190Nm@ 2000rpm    5.0  \n",
       "8126      70 bhp        140Nm@ 1800-3000rpm    5.0  \n",
       "8127      70 bhp        140Nm@ 1800-3000rpm    5.0  \n",
       "\n",
       "[8128 rows x 13 columns]"
      ]
     },
     "execution_count": 15,
     "metadata": {},
     "output_type": "execute_result"
    }
   ],
   "source": [
    "import pandas as pd\n",
    "import numpy as np\n",
    "import seaborn as sns \n",
    "import matplotlib.pyplot as plt\n",
    "from sklearn import metrics\n",
    "from sklearn.model_selection import train_test_split \n",
    "from sklearn.linear_model import LinearRegression \n",
    "from sklearn.metrics import classification_report, confusion_matrix  \n",
    "from sklearn.metrics import mean_squared_error \n",
    "from sklearn.metrics import r2_score\n",
    "\n",
    "anex = pd.read_csv(r'D:\\UNAD\\QUINTO SEMESTRE\\ANALISIS DE DATOS\\TAREA 3\\car details v3.csv') \n",
    "anex.head(8129)\n"
   ]
  },
  {
   "cell_type": "code",
   "execution_count": 16,
   "id": "bf2a728b-65a3-4abc-b4c2-1c7172b586c4",
   "metadata": {},
   "outputs": [
    {
     "data": {
      "text/html": [
       "<div>\n",
       "<style scoped>\n",
       "    .dataframe tbody tr th:only-of-type {\n",
       "        vertical-align: middle;\n",
       "    }\n",
       "\n",
       "    .dataframe tbody tr th {\n",
       "        vertical-align: top;\n",
       "    }\n",
       "\n",
       "    .dataframe thead th {\n",
       "        text-align: right;\n",
       "    }\n",
       "</style>\n",
       "<table border=\"1\" class=\"dataframe\">\n",
       "  <thead>\n",
       "    <tr style=\"text-align: right;\">\n",
       "      <th></th>\n",
       "      <th>year</th>\n",
       "      <th>selling_price</th>\n",
       "      <th>km_driven</th>\n",
       "      <th>seats</th>\n",
       "    </tr>\n",
       "  </thead>\n",
       "  <tbody>\n",
       "    <tr>\n",
       "      <th>count</th>\n",
       "      <td>8128.000000</td>\n",
       "      <td>8.128000e+03</td>\n",
       "      <td>8.128000e+03</td>\n",
       "      <td>7907.000000</td>\n",
       "    </tr>\n",
       "    <tr>\n",
       "      <th>mean</th>\n",
       "      <td>2013.804011</td>\n",
       "      <td>6.382718e+05</td>\n",
       "      <td>6.981951e+04</td>\n",
       "      <td>5.416719</td>\n",
       "    </tr>\n",
       "    <tr>\n",
       "      <th>std</th>\n",
       "      <td>4.044249</td>\n",
       "      <td>8.062534e+05</td>\n",
       "      <td>5.655055e+04</td>\n",
       "      <td>0.959588</td>\n",
       "    </tr>\n",
       "    <tr>\n",
       "      <th>min</th>\n",
       "      <td>1983.000000</td>\n",
       "      <td>2.999900e+04</td>\n",
       "      <td>1.000000e+00</td>\n",
       "      <td>2.000000</td>\n",
       "    </tr>\n",
       "    <tr>\n",
       "      <th>25%</th>\n",
       "      <td>2011.000000</td>\n",
       "      <td>2.549990e+05</td>\n",
       "      <td>3.500000e+04</td>\n",
       "      <td>5.000000</td>\n",
       "    </tr>\n",
       "    <tr>\n",
       "      <th>50%</th>\n",
       "      <td>2015.000000</td>\n",
       "      <td>4.500000e+05</td>\n",
       "      <td>6.000000e+04</td>\n",
       "      <td>5.000000</td>\n",
       "    </tr>\n",
       "    <tr>\n",
       "      <th>75%</th>\n",
       "      <td>2017.000000</td>\n",
       "      <td>6.750000e+05</td>\n",
       "      <td>9.800000e+04</td>\n",
       "      <td>5.000000</td>\n",
       "    </tr>\n",
       "    <tr>\n",
       "      <th>max</th>\n",
       "      <td>2020.000000</td>\n",
       "      <td>1.000000e+07</td>\n",
       "      <td>2.360457e+06</td>\n",
       "      <td>14.000000</td>\n",
       "    </tr>\n",
       "  </tbody>\n",
       "</table>\n",
       "</div>"
      ],
      "text/plain": [
       "              year  selling_price     km_driven        seats\n",
       "count  8128.000000   8.128000e+03  8.128000e+03  7907.000000\n",
       "mean   2013.804011   6.382718e+05  6.981951e+04     5.416719\n",
       "std       4.044249   8.062534e+05  5.655055e+04     0.959588\n",
       "min    1983.000000   2.999900e+04  1.000000e+00     2.000000\n",
       "25%    2011.000000   2.549990e+05  3.500000e+04     5.000000\n",
       "50%    2015.000000   4.500000e+05  6.000000e+04     5.000000\n",
       "75%    2017.000000   6.750000e+05  9.800000e+04     5.000000\n",
       "max    2020.000000   1.000000e+07  2.360457e+06    14.000000"
      ]
     },
     "execution_count": 16,
     "metadata": {},
     "output_type": "execute_result"
    }
   ],
   "source": [
    "anex.describe()"
   ]
  },
  {
   "cell_type": "code",
   "execution_count": 17,
   "id": "3eaeee52-0f79-4fb4-bafa-c6478c2727a5",
   "metadata": {},
   "outputs": [
    {
     "name": "stdout",
     "output_type": "stream",
     "text": [
      "0    450000\n",
      "1    370000\n",
      "2    158000\n",
      "3    225000\n",
      "4    130000\n",
      "Name: selling_price, dtype: int64\n"
     ]
    }
   ],
   "source": [
    "print(anex['selling_price'].head())"
   ]
  },
  {
   "cell_type": "code",
   "execution_count": 18,
   "id": "0d910f23-80a8-4882-9023-c7721fdd8cde",
   "metadata": {},
   "outputs": [
    {
     "name": "stdout",
     "output_type": "stream",
     "text": [
      "El carro más costoso tiene un precio de: 10000000\n"
     ]
    }
   ],
   "source": [
    "carro_mas_costoso = anex['selling_price'].max()\n",
    "\n",
    "print(\"El carro más costoso tiene un precio de:\", carro_mas_costoso)"
   ]
  },
  {
   "cell_type": "code",
   "execution_count": 19,
   "id": "471e4728-50ee-4a1f-b009-41e76df9dd01",
   "metadata": {},
   "outputs": [
    {
     "name": "stdout",
     "output_type": "stream",
     "text": [
      "El carro más nuevo es: 2020\n"
     ]
    }
   ],
   "source": [
    "carro_mas_nuevo = anex['year'].max()\n",
    "\n",
    "print(\"El carro más nuevo es:\", carro_mas_nuevo)"
   ]
  },
  {
   "cell_type": "code",
   "execution_count": 20,
   "id": "fb4e56ea-caa5-4639-ace9-01e9098bc4d7",
   "metadata": {},
   "outputs": [
    {
     "name": "stdout",
     "output_type": "stream",
     "text": [
      "El carro más viejo es: 1983\n"
     ]
    }
   ],
   "source": [
    "carro_mas_viejo = anex['year'].min()\n",
    "\n",
    "print(\"El carro más viejo es:\", carro_mas_viejo)"
   ]
  },
  {
   "cell_type": "code",
   "execution_count": 21,
   "id": "fefabab7-e782-4915-9518-fe5dc206396e",
   "metadata": {},
   "outputs": [
    {
     "name": "stdout",
     "output_type": "stream",
     "text": [
      "El carro más economico tiene un precio de: 29999\n"
     ]
    }
   ],
   "source": [
    "carro_mas_economico = anex['selling_price'].min()\n",
    "\n",
    "print(\"El carro más economico tiene un precio de:\", carro_mas_economico)"
   ]
  },
  {
   "cell_type": "code",
   "execution_count": 27,
   "id": "fd0d1088-53e7-4ad4-ab2c-cf5915c04f72",
   "metadata": {},
   "outputs": [
    {
     "name": "stdout",
     "output_type": "stream",
     "text": [
      "El carro más usado tiene un kilometraje de: 2360457\n"
     ]
    }
   ],
   "source": [
    "carro_mas_usado = anex['km_driven'].max()\n",
    "\n",
    "print(\"El carro más usado tiene un kilometraje de:\", carro_mas_usado)"
   ]
  },
  {
   "cell_type": "code",
   "execution_count": 28,
   "id": "aac1ba60-8b4f-4666-b4ec-770c8af5dd05",
   "metadata": {},
   "outputs": [
    {
     "name": "stdout",
     "output_type": "stream",
     "text": [
      "El carro menos usado tiene un kilometraje de: 1\n"
     ]
    }
   ],
   "source": [
    "carro_menos_usado = anex['km_driven'].min()\n",
    "\n",
    "print(\"El carro menos usado tiene un kilometraje de:\", carro_menos_usado)"
   ]
  },
  {
   "cell_type": "code",
   "execution_count": 22,
   "id": "dadbdb2c-aea4-4e2b-92ed-82e41a15748d",
   "metadata": {},
   "outputs": [
    {
     "name": "stdout",
     "output_type": "stream",
     "text": [
      "El carro con el motor más grande tiene un motor de 3604.0 CC\n"
     ]
    }
   ],
   "source": [
    "anex['engine_numeric'] = anex['engine'].str.extract('(\\d+\\.?\\d*)').astype(float)\n",
    "\n",
    "# Encontrar el valor máximo en la columna 'engine_numeric'\n",
    "carro_motor_mas_grande = anex['engine_numeric'].max()\n",
    "\n",
    "print(\"El carro con el motor más grande tiene un motor de\", carro_motor_mas_grande, \"CC\")"
   ]
  },
  {
   "cell_type": "code",
   "execution_count": 23,
   "id": "2528360c-9336-4ff3-8e83-c39d2c1e2f1d",
   "metadata": {},
   "outputs": [
    {
     "name": "stdout",
     "output_type": "stream",
     "text": [
      "El carro con el motor más pequeño tiene un motor de 624.0 CC\n"
     ]
    }
   ],
   "source": [
    "anex['engine_numeric'] = anex['engine'].str.extract('(\\d+\\.?\\d*)').astype(float)\n",
    "\n",
    "# Encontrar el valor minimo en la columna 'engine_numeric'\n",
    "carro_motor_mas_pequeño = anex['engine_numeric'].min()\n",
    "\n",
    "print(\"El carro con el motor más pequeño tiene un motor de\", carro_motor_mas_pequeño, \"CC\")"
   ]
  },
  {
   "cell_type": "code",
   "execution_count": 24,
   "id": "1977a6f5-bc95-47d3-a040-0941e9b1fd25",
   "metadata": {},
   "outputs": [
    {
     "name": "stdout",
     "output_type": "stream",
     "text": [
      "El carro con el motor más pequeño tiene un motor de 52.0 bhp\n",
      "El carro con el motor más grande tiene un motor de 400.0 bhp\n"
     ]
    }
   ],
   "source": [
    "# Extraer solo los números de la columna 'max_power' y convertirlos a float\n",
    "anex['max_power_numeric'] = anex['max_power'].str.extract('(\\d+\\.?\\d*)').astype(float)\n",
    "\n",
    "# Establecer límites para los valores mínimos y máximos\n",
    "min_limite = 50\n",
    "max_limite = 1900\n",
    "\n",
    "# Filtrar valores fuera del rango deseado\n",
    "anex_filtered = anex[(anex['max_power_numeric'] >= min_limite) & (anex['max_power_numeric'] <= max_limite)]\n",
    "\n",
    "# Encontrar el valor mínimo en la columna 'max_power_numeric' después de filtrar\n",
    "carro_motor_mas_pequeno = anex_filtered['max_power_numeric'].min()\n",
    "print(\"El carro con el motor más pequeño tiene un motor de\", carro_motor_mas_pequeno, \"bhp\")\n",
    "\n",
    "# Encontrar el valor máximo en la columna 'max_power_numeric' después de filtrar\n",
    "carro_motor_mas_grande = anex_filtered['max_power_numeric'].max()\n",
    "print(\"El carro con el motor más grande tiene un motor de\", carro_motor_mas_grande, \"bhp\")"
   ]
  },
  {
   "cell_type": "code",
   "execution_count": 25,
   "id": "11f33e01-5423-432c-b3d6-00c02dbc2d73",
   "metadata": {},
   "outputs": [
    {
     "name": "stdout",
     "output_type": "stream",
     "text": [
      "0        74 bhp\n",
      "1    103.52 bhp\n",
      "2        78 bhp\n",
      "3        90 bhp\n",
      "4      88.2 bhp\n",
      "Name: max_power, dtype: object\n"
     ]
    }
   ],
   "source": [
    "print(anex['max_power'].head())"
   ]
  },
  {
   "cell_type": "code",
   "execution_count": 26,
   "id": "d9a263a1-6b38-4940-b523-abc728cf828c",
   "metadata": {},
   "outputs": [
    {
     "name": "stdout",
     "output_type": "stream",
     "text": [
      "0    145500\n",
      "1    120000\n",
      "2    140000\n",
      "3    127000\n",
      "4    120000\n",
      "Name: km_driven, dtype: int64\n"
     ]
    }
   ],
   "source": [
    "print(anex['km_driven'].head())"
   ]
  },
  {
   "cell_type": "code",
   "execution_count": 64,
   "id": "46aaade7-9c12-468a-881f-4f9c5c054e21",
   "metadata": {},
   "outputs": [
    {
     "name": "stdout",
     "output_type": "stream",
     "text": [
      "0        74 bhp\n",
      "1    103.52 bhp\n",
      "2        78 bhp\n",
      "3        90 bhp\n",
      "4      88.2 bhp\n",
      "Name: max_power, dtype: object\n"
     ]
    }
   ],
   "source": [
    "print(anex['max_power'].head())"
   ]
  },
  {
   "cell_type": "code",
   "execution_count": 65,
   "id": "0bc132e2-14f6-464c-a1b9-6abd8ff8bf81",
   "metadata": {},
   "outputs": [
    {
     "data": {
      "image/png": "[encoded data removed]",
      "text/plain": [
       "<Figure size 1500x900 with 6 Axes>"
      ]
     },
     "metadata": {},
     "output_type": "display_data"
    }
   ],
   "source": [
    "#y_max = 45100 \n",
    "anex['log_selling_price'] = np.log1p(anex['selling_price']) \n",
    "anex['log_km_driven'] = np.log1p(anex['km_driven'])\n",
    "anex['engine'] = anex['engine'].str.extract('(\\d+)').astype(float) \n",
    "anex['max_power'] = anex['max_power'].str.extract('(\\d+)').astype(float)\n",
    "fig, axs = plt.subplots(2,3, figsize = (15,9))\n",
    "plt1 = sns.boxplot(anex['year'], ax = axs[0,0])\n",
    "plt2 = sns.boxplot(anex['log_selling_price'], ax = axs[0,1])\n",
    "plt3 = sns.boxplot(anex['log_km_driven'], ax = axs[0,2])\n",
    "plt1 = sns.boxplot(anex['seats'], ax = axs[1,0])\n",
    "plt2 = sns.boxplot(anex['engine'], ax = axs[1,1]) \n",
    "plt3 = sns.boxplot(anex['max_power'], ax = axs[1,2]) \n",
    "#y_min = anex['selling_price'].min(0)\n",
    "#y_max = anex['selling_price'].max(451000)\n",
    "#axs[0, 1].set_ylim(0, y_max)\n",
    "plt.tight_layout()"
   ]
  },
  {
   "cell_type": "code",
   "execution_count": 66,
   "id": "a23fb201-3c60-4439-821b-b185d31d2d73",
   "metadata": {},
   "outputs": [
    {
     "name": "stdout",
     "output_type": "stream",
     "text": [
      "cantidad de datos con cero registros en year:  0\n",
      "cantidad de datos con cero registros en selling_price:  0\n",
      "cantidad de datos con cero registros en km_driven:  0\n",
      "cantidad de datos con cero registros en mileage:  0\n",
      "cantidad de datos con cero registros en engine:  0\n",
      "cantidad de datos con cero registros en max_power:  6\n",
      "cantidad de datos con cero registros en seats:  0\n",
      "cantidad de datos con cero registros en torque:  0\n"
     ]
    }
   ],
   "source": [
    "print(\"cantidad de datos con cero registros en year: \",anex['year'].isin([0]).sum())  \n",
    "print(\"cantidad de datos con cero registros en selling_price: \",anex['selling_price'].isin([0]).sum())\n",
    "print(\"cantidad de datos con cero registros en km_driven: \",anex['km_driven'].isin([0]).sum())\n",
    "print(\"cantidad de datos con cero registros en mileage: \",anex['mileage'].isin([0]).sum())\n",
    "print(\"cantidad de datos con cero registros en engine: \",anex['engine'].isin([0]).sum())\n",
    "print(\"cantidad de datos con cero registros en max_power: \",anex['max_power'].isin([0]).sum()) \n",
    "print(\"cantidad de datos con cero registros en seats: \",anex['seats'].isin([0]).sum()) \n",
    "print(\"cantidad de datos con cero registros en torque: \",anex['torque'].isin([0]).sum())\n"
   ]
  },
  {
   "cell_type": "code",
   "execution_count": 67,
   "id": "893ae6cb-a301-4a3d-a2a8-2909f7534276",
   "metadata": {},
   "outputs": [],
   "source": [
    "anex['max_power']=anex['max_power'].replace(0,anex['max_power'].mean())"
   ]
  },
  {
   "cell_type": "code",
   "execution_count": 68,
   "id": "5233fd52-939b-4f53-8f2c-b8a8c2b22063",
   "metadata": {},
   "outputs": [
    {
     "name": "stdout",
     "output_type": "stream",
     "text": [
      "cantidad de datos con cero registros en max_power:  0\n"
     ]
    }
   ],
   "source": [
    "print(\"cantidad de datos con cero registros en max_power: \",anex['max_power'].isin([0]).sum())"
   ]
  },
  {
   "cell_type": "code",
   "execution_count": 69,
   "id": "fce5c0c7-9174-4eb3-8534-b44100300f2f",
   "metadata": {},
   "outputs": [
    {
     "name": "stdout",
     "output_type": "stream",
     "text": [
      "el total de datos atipicos es 1\n"
     ]
    }
   ],
   "source": [
    "min=1990\n",
    "max=2020 \n",
    "atipico=((anex['year']<min)|(anex['year']>max)).sum()\n",
    "print(\"el total de datos atipicos es {}\".format(atipico)) \n"
   ]
  },
  {
   "cell_type": "code",
   "execution_count": 117,
   "id": "9e63e6d9-241b-4e53-a266-08be736d5282",
   "metadata": {},
   "outputs": [
    {
     "name": "stdout",
     "output_type": "stream",
     "text": [
      "El carro con el motor más pequeño tiene un motor de 0.0 CC\n"
     ]
    }
   ],
   "source": [
    "anex['max_power_numeric'] = anex['max_power'].str.extract('(\\d+\\.?\\d*)').astype(float)\n",
    "\n",
    "# Encontrar el valor minimo en la columna 'engine_numeric'\n",
    "carro_motor_mas_pequeño = anex['max_power_numeric'].min()\n",
    "\n",
    "print(\"El carro con el motor más pequeño tiene un motor de\", carro_motor_mas_pequeño, \"CC\")"
   ]
  },
  {
   "cell_type": "code",
   "execution_count": 70,
   "id": "863493e1-38b3-433f-88c1-e30811bc604a",
   "metadata": {},
   "outputs": [
    {
     "name": "stdout",
     "output_type": "stream",
     "text": [
      "el total de datos atipicos es 19\n"
     ]
    }
   ],
   "source": [
    "min=1000\n",
    "max=300000\n",
    "atipico1=((anex['km_driven']<min)|(anex['km_driven']>max)).sum()\n",
    "print(\"el total de datos atipicos es {}\".format(atipico1)) \n"
   ]
  },
  {
   "cell_type": "code",
   "execution_count": 71,
   "id": "0ad9b4f4-de3f-4d0b-9250-459ed70e0975",
   "metadata": {},
   "outputs": [
    {
     "name": "stdout",
     "output_type": "stream",
     "text": [
      "el total de datos atipicos es 3\n"
     ]
    }
   ],
   "source": [
    "min=4\n",
    "max=10\n",
    "atipico2=((anex['seats']<min)|(anex['seats']>max)).sum()\n",
    "print(\"el total de datos atipicos es {}\".format(atipico2))\n"
   ]
  },
  {
   "cell_type": "code",
   "execution_count": 72,
   "id": "2b728456-3d51-4c04-a313-c0425f3465b9",
   "metadata": {},
   "outputs": [
    {
     "name": "stdout",
     "output_type": "stream",
     "text": [
      "el total de datos atipicos es 7907\n"
     ]
    }
   ],
   "source": [
    "min=50\n",
    "max=1900\n",
    "atipico3=((anex['engine']<max)|(anex['engine']>min)).sum()\n",
    "print(\"el total de datos atipicos es {}\".format(atipico3))\n"
   ]
  },
  {
   "cell_type": "code",
   "execution_count": 73,
   "id": "5b858f5e-cc31-4da8-8ee6-c71ef6d0db3d",
   "metadata": {},
   "outputs": [],
   "source": [
    "anex=anex[(anex['engine']<max)&(anex['engine']>min)] "
   ]
  },
  {
   "cell_type": "code",
   "execution_count": 74,
   "id": "ebccfd3f-40cd-452e-9444-a7c29e3d063f",
   "metadata": {},
   "outputs": [
    {
     "name": "stdout",
     "output_type": "stream",
     "text": [
      "el total de datos atipicos es 0\n"
     ]
    }
   ],
   "source": [
    "atipico3=((anex['engine']<min)|(anex['engine']>max)).sum()\n",
    "print(\"el total de datos atipicos es {}\".format(atipico3))"
   ]
  },
  {
   "cell_type": "code",
   "execution_count": 75,
   "id": "669fab7b-704f-4e83-afb8-87aae656feb2",
   "metadata": {},
   "outputs": [
    {
     "name": "stdout",
     "output_type": "stream",
     "text": [
      "<class 'pandas.core.frame.DataFrame'>\n",
      "Index: 6287 entries, 0 to 8127\n",
      "Data columns (total 15 columns):\n",
      " #   Column             Non-Null Count  Dtype  \n",
      "---  ------             --------------  -----  \n",
      " 0   name               6287 non-null   object \n",
      " 1   year               6287 non-null   int64  \n",
      " 2   selling_price      6287 non-null   int64  \n",
      " 3   km_driven          6287 non-null   int64  \n",
      " 4   fuel               6287 non-null   object \n",
      " 5   seller_type        6287 non-null   object \n",
      " 6   transmission       6287 non-null   object \n",
      " 7   owner              6287 non-null   object \n",
      " 8   mileage            6287 non-null   object \n",
      " 9   engine             6287 non-null   float64\n",
      " 10  max_power          6286 non-null   float64\n",
      " 11  torque             6286 non-null   object \n",
      " 12  seats              6287 non-null   float64\n",
      " 13  log_selling_price  6287 non-null   float64\n",
      " 14  log_km_driven      6287 non-null   float64\n",
      "dtypes: float64(5), int64(3), object(7)\n",
      "memory usage: 785.9+ KB\n"
     ]
    }
   ],
   "source": [
    "anex.info()"
   ]
  },
  {
   "cell_type": "code",
   "execution_count": 76,
   "id": "a4c937fb-d46c-4312-90e3-33bb9c9496dd",
   "metadata": {},
   "outputs": [
    {
     "data": {
      "text/plain": [
       "selling_price\n",
       "300000    192\n",
       "350000    189\n",
       "600000    174\n",
       "550000    168\n",
       "650000    165\n",
       "         ... \n",
       "911999      1\n",
       "449000      1\n",
       "698000      1\n",
       "539000      1\n",
       "746000      1\n",
       "Name: count, Length: 541, dtype: int64"
      ]
     },
     "execution_count": 76,
     "metadata": {},
     "output_type": "execute_result"
    }
   ],
   "source": [
    "anex['selling_price'].value_counts()"
   ]
  },
  {
   "cell_type": "code",
   "execution_count": 77,
   "id": "6d86026f-6473-4c64-bd9f-58c3fed23779",
   "metadata": {},
   "outputs": [
    {
     "data": {
      "text/html": [
       "<div>\n",
       "<style scoped>\n",
       "    .dataframe tbody tr th:only-of-type {\n",
       "        vertical-align: middle;\n",
       "    }\n",
       "\n",
       "    .dataframe tbody tr th {\n",
       "        vertical-align: top;\n",
       "    }\n",
       "\n",
       "    .dataframe thead th {\n",
       "        text-align: right;\n",
       "    }\n",
       "</style>\n",
       "<table border=\"1\" class=\"dataframe\">\n",
       "  <thead>\n",
       "    <tr style=\"text-align: right;\">\n",
       "      <th></th>\n",
       "      <th>selling_price</th>\n",
       "    </tr>\n",
       "  </thead>\n",
       "  <tbody>\n",
       "    <tr>\n",
       "      <th>0</th>\n",
       "      <td>450000</td>\n",
       "    </tr>\n",
       "    <tr>\n",
       "      <th>1</th>\n",
       "      <td>370000</td>\n",
       "    </tr>\n",
       "    <tr>\n",
       "      <th>2</th>\n",
       "      <td>158000</td>\n",
       "    </tr>\n",
       "    <tr>\n",
       "      <th>3</th>\n",
       "      <td>225000</td>\n",
       "    </tr>\n",
       "    <tr>\n",
       "      <th>4</th>\n",
       "      <td>130000</td>\n",
       "    </tr>\n",
       "    <tr>\n",
       "      <th>5</th>\n",
       "      <td>440000</td>\n",
       "    </tr>\n",
       "    <tr>\n",
       "      <th>6</th>\n",
       "      <td>96000</td>\n",
       "    </tr>\n",
       "    <tr>\n",
       "      <th>7</th>\n",
       "      <td>45000</td>\n",
       "    </tr>\n",
       "    <tr>\n",
       "      <th>8</th>\n",
       "      <td>350000</td>\n",
       "    </tr>\n",
       "    <tr>\n",
       "      <th>9</th>\n",
       "      <td>200000</td>\n",
       "    </tr>\n",
       "    <tr>\n",
       "      <th>10</th>\n",
       "      <td>500000</td>\n",
       "    </tr>\n",
       "    <tr>\n",
       "      <th>11</th>\n",
       "      <td>92000</td>\n",
       "    </tr>\n",
       "    <tr>\n",
       "      <th>12</th>\n",
       "      <td>280000</td>\n",
       "    </tr>\n",
       "    <tr>\n",
       "      <th>14</th>\n",
       "      <td>180000</td>\n",
       "    </tr>\n",
       "    <tr>\n",
       "      <th>15</th>\n",
       "      <td>400000</td>\n",
       "    </tr>\n",
       "    <tr>\n",
       "      <th>16</th>\n",
       "      <td>778000</td>\n",
       "    </tr>\n",
       "    <tr>\n",
       "      <th>17</th>\n",
       "      <td>500000</td>\n",
       "    </tr>\n",
       "    <tr>\n",
       "      <th>18</th>\n",
       "      <td>150000</td>\n",
       "    </tr>\n",
       "    <tr>\n",
       "      <th>19</th>\n",
       "      <td>680000</td>\n",
       "    </tr>\n",
       "    <tr>\n",
       "      <th>20</th>\n",
       "      <td>174000</td>\n",
       "    </tr>\n",
       "    <tr>\n",
       "      <th>21</th>\n",
       "      <td>950000</td>\n",
       "    </tr>\n",
       "    <tr>\n",
       "      <th>22</th>\n",
       "      <td>525000</td>\n",
       "    </tr>\n",
       "    <tr>\n",
       "      <th>23</th>\n",
       "      <td>600000</td>\n",
       "    </tr>\n",
       "    <tr>\n",
       "      <th>24</th>\n",
       "      <td>500000</td>\n",
       "    </tr>\n",
       "    <tr>\n",
       "      <th>25</th>\n",
       "      <td>575000</td>\n",
       "    </tr>\n",
       "    <tr>\n",
       "      <th>26</th>\n",
       "      <td>275000</td>\n",
       "    </tr>\n",
       "    <tr>\n",
       "      <th>27</th>\n",
       "      <td>300000</td>\n",
       "    </tr>\n",
       "    <tr>\n",
       "      <th>28</th>\n",
       "      <td>220000</td>\n",
       "    </tr>\n",
       "    <tr>\n",
       "      <th>29</th>\n",
       "      <td>254999</td>\n",
       "    </tr>\n",
       "    <tr>\n",
       "      <th>30</th>\n",
       "      <td>670000</td>\n",
       "    </tr>\n",
       "    <tr>\n",
       "      <th>32</th>\n",
       "      <td>150000</td>\n",
       "    </tr>\n",
       "    <tr>\n",
       "      <th>33</th>\n",
       "      <td>730000</td>\n",
       "    </tr>\n",
       "    <tr>\n",
       "      <th>34</th>\n",
       "      <td>650000</td>\n",
       "    </tr>\n",
       "    <tr>\n",
       "      <th>35</th>\n",
       "      <td>330000</td>\n",
       "    </tr>\n",
       "    <tr>\n",
       "      <th>36</th>\n",
       "      <td>366000</td>\n",
       "    </tr>\n",
       "    <tr>\n",
       "      <th>37</th>\n",
       "      <td>1149000</td>\n",
       "    </tr>\n",
       "    <tr>\n",
       "      <th>38</th>\n",
       "      <td>150000</td>\n",
       "    </tr>\n",
       "    <tr>\n",
       "      <th>40</th>\n",
       "      <td>150000</td>\n",
       "    </tr>\n",
       "    <tr>\n",
       "      <th>41</th>\n",
       "      <td>2100000</td>\n",
       "    </tr>\n",
       "    <tr>\n",
       "      <th>42</th>\n",
       "      <td>925000</td>\n",
       "    </tr>\n",
       "    <tr>\n",
       "      <th>43</th>\n",
       "      <td>425000</td>\n",
       "    </tr>\n",
       "    <tr>\n",
       "      <th>44</th>\n",
       "      <td>675000</td>\n",
       "    </tr>\n",
       "    <tr>\n",
       "      <th>45</th>\n",
       "      <td>819999</td>\n",
       "    </tr>\n",
       "    <tr>\n",
       "      <th>46</th>\n",
       "      <td>390000</td>\n",
       "    </tr>\n",
       "    <tr>\n",
       "      <th>50</th>\n",
       "      <td>425000</td>\n",
       "    </tr>\n",
       "    <tr>\n",
       "      <th>52</th>\n",
       "      <td>600000</td>\n",
       "    </tr>\n",
       "    <tr>\n",
       "      <th>53</th>\n",
       "      <td>850000</td>\n",
       "    </tr>\n",
       "    <tr>\n",
       "      <th>54</th>\n",
       "      <td>525000</td>\n",
       "    </tr>\n",
       "    <tr>\n",
       "      <th>58</th>\n",
       "      <td>1590000</td>\n",
       "    </tr>\n",
       "    <tr>\n",
       "      <th>61</th>\n",
       "      <td>265000</td>\n",
       "    </tr>\n",
       "  </tbody>\n",
       "</table>\n",
       "</div>"
      ],
      "text/plain": [
       "    selling_price\n",
       "0          450000\n",
       "1          370000\n",
       "2          158000\n",
       "3          225000\n",
       "4          130000\n",
       "5          440000\n",
       "6           96000\n",
       "7           45000\n",
       "8          350000\n",
       "9          200000\n",
       "10         500000\n",
       "11          92000\n",
       "12         280000\n",
       "14         180000\n",
       "15         400000\n",
       "16         778000\n",
       "17         500000\n",
       "18         150000\n",
       "19         680000\n",
       "20         174000\n",
       "21         950000\n",
       "22         525000\n",
       "23         600000\n",
       "24         500000\n",
       "25         575000\n",
       "26         275000\n",
       "27         300000\n",
       "28         220000\n",
       "29         254999\n",
       "30         670000\n",
       "32         150000\n",
       "33         730000\n",
       "34         650000\n",
       "35         330000\n",
       "36         366000\n",
       "37        1149000\n",
       "38         150000\n",
       "40         150000\n",
       "41        2100000\n",
       "42         925000\n",
       "43         425000\n",
       "44         675000\n",
       "45         819999\n",
       "46         390000\n",
       "50         425000\n",
       "52         600000\n",
       "53         850000\n",
       "54         525000\n",
       "58        1590000\n",
       "61         265000"
      ]
     },
     "execution_count": 77,
     "metadata": {},
     "output_type": "execute_result"
    }
   ],
   "source": [
    "anex[['selling_price']].head(50)"
   ]
  },
  {
   "cell_type": "code",
   "execution_count": 78,
   "id": "a11e1f51-2d9a-4929-9b2d-8e8208bdc1ba",
   "metadata": {},
   "outputs": [],
   "source": [
    "#T = anex.drop('selling_price',axis=1)\n",
    "#TE = anex['selling_price'] \n",
    "#T_train, T_test, TE_train, TE_test = train_test_split(T, TE, test_size=0.25, stratify=TE, random_state= 0) \n",
    "#print (T_train) \n",
    "anex = anex[['selling_price', 'km_driven', 'seats', 'year', 'engine']]\n",
    "t = anex.drop('selling_price',axis=1)\n",
    "te = anex['selling_price']\n",
    "t_train, t_test, te_train, te_test = train_test_split(t, te, test_size=0.25, random_state= 0)  "
   ]
  },
  {
   "cell_type": "code",
   "execution_count": 79,
   "id": "a3b2871c-2d9b-41aa-a216-7413eb87ad95",
   "metadata": {},
   "outputs": [
    {
     "name": "stdout",
     "output_type": "stream",
     "text": [
      "      km_driven  seats  year  engine\n",
      "1205      30000    5.0  2015  1197.0\n",
      "5707      15000    4.0  2015   624.0\n",
      "6037      40000    7.0  2017  1493.0\n",
      "6411      74000    5.0  2012  1199.0\n",
      "1126      25538    5.0  2017  1496.0\n",
      "...         ...    ...   ...     ...\n",
      "6390     120000    5.0  2013  1197.0\n",
      "4245      25538    5.0  2017  1496.0\n",
      "2187      40000    5.0  2012  1497.0\n",
      "3389     120000    5.0  2012  1248.0\n",
      "3559      19000    5.0  2019  1197.0\n",
      "\n",
      "[4715 rows x 4 columns]\n"
     ]
    }
   ],
   "source": [
    "modelo_regresion = LinearRegression() \n",
    "modelo_regresion.fit (t_train , te_train)   \n",
    "Prediccion = modelo_regresion.predict(t_test) \n",
    "#print(Prediccion)\n",
    "print (t_train)\n"
   ]
  },
  {
   "cell_type": "code",
   "execution_count": 80,
   "id": "2454087f-3325-4d25-97fe-ba264da645d5",
   "metadata": {},
   "outputs": [
    {
     "name": "stdout",
     "output_type": "stream",
     "text": [
      "1205    511000\n",
      "5707    110000\n",
      "6037    700000\n",
      "6411    350000\n",
      "1126    625000\n",
      "         ...  \n",
      "6390    370000\n",
      "4245    625000\n",
      "2187    560000\n",
      "3389    287000\n",
      "3559    570000\n",
      "Name: selling_price, Length: 4715, dtype: int64\n"
     ]
    }
   ],
   "source": [
    "print (te_train)\n"
   ]
  },
  {
   "cell_type": "code",
   "execution_count": 81,
   "id": "9e5d1743-afed-4b57-9cbe-1630c30f9f5c",
   "metadata": {},
   "outputs": [],
   "source": [
    "#rl = LinearRegression(solver = \"liblinear\") \n",
    "#rl.fit (t_train , te_train) \n",
    "#Prediccion = rl.predict(t_test)  \n",
    "# Crear una instancia del modelo de regresión lineal\n",
    "rl = LinearRegression()\n",
    "# Ajustar el modelo a los datos de entrenamiento\n",
    "rl.fit(t_train, te_train)\n",
    "# Hacer predicciones utilizando el modelo entrenado\n",
    "Prediccion = rl.predict(t_test)"
   ]
  },
  {
   "cell_type": "code",
   "execution_count": 82,
   "id": "e143c92a-7f9e-4e1c-892f-bf9257e7b024",
   "metadata": {},
   "outputs": [
    {
     "name": "stdout",
     "output_type": "stream",
     "text": [
      "7505    700000\n",
      "717     385000\n",
      "5919    380000\n",
      "3347    455000\n",
      "4357    625000\n",
      "         ...  \n",
      "5599    550000\n",
      "7046    420000\n",
      "5113    200000\n",
      "3297    600000\n",
      "4946    376000\n",
      "Name: selling_price, Length: 1572, dtype: int64\n"
     ]
    }
   ],
   "source": [
    "print (te_test)"
   ]
  },
  {
   "cell_type": "code",
   "execution_count": 83,
   "id": "c7a50cc8-d60c-47e3-8fe4-01d7338b35cc",
   "metadata": {},
   "outputs": [
    {
     "name": "stdout",
     "output_type": "stream",
     "text": [
      "[624490.13328812 567727.763639   388030.03138764 ... 213419.43370914\n",
      " 535006.61777155 360383.19890907]\n"
     ]
    }
   ],
   "source": [
    "print (Prediccion)"
   ]
  },
  {
   "cell_type": "code",
   "execution_count": 84,
   "id": "79cdafbc-45d6-4b16-ac73-38b243e5f60d",
   "metadata": {},
   "outputs": [
    {
     "name": "stdout",
     "output_type": "stream",
     "text": [
      "Error cuadrático medio: 23992045858.359833\n"
     ]
    }
   ],
   "source": [
    "mse = mean_squared_error(te_test, Prediccion)\n",
    "print(\"Error cuadrático medio:\", mse)"
   ]
  },
  {
   "cell_type": "code",
   "execution_count": 85,
   "id": "af0ef8ef-7330-40f1-898c-1c86ad88a74b",
   "metadata": {},
   "outputs": [
    {
     "name": "stdout",
     "output_type": "stream",
     "text": [
      "Coeficiente de determinación (R-cuadrado): 0.633405840968877\n"
     ]
    }
   ],
   "source": [
    "r2 = r2_score(te_test, Prediccion)\n",
    "print(\"Coeficiente de determinación (R-cuadrado):\", r2)"
   ]
  },
  {
   "cell_type": "code",
   "execution_count": 86,
   "id": "759b933e-5c6b-4c99-872f-8e56a4aad189",
   "metadata": {},
   "outputs": [
    {
     "data": {
      "image/png": "[encoded data removed]",
      "text/plain": [
       "<Figure size 800x600 with 1 Axes>"
      ]
     },
     "metadata": {},
     "output_type": "display_data"
    }
   ],
   "source": [
    "plt.figure(figsize=(8, 6))\n",
    "plt.scatter(te_test, Prediccion, color='blue')\n",
    "plt.plot([te_test.min(), te_test.max()], [te_test.min(), te_test.max()], 'k--', lw=2)  # Línea diagonal para referencia\n",
    "plt.xlabel('Valor Real')\n",
    "plt.ylabel('Predicción')\n",
    "plt.title('Gráfico de Dispersión: Valor Real vs. Predicción')\n",
    "plt.show()"
   ]
  },
  {
   "cell_type": "code",
   "execution_count": 87,
   "id": "bf465f1b-b6d4-45dc-b175-a102256b5d36",
   "metadata": {},
   "outputs": [
    {
     "data": {
      "image/png": "[encoded data removed]",
      "text/plain": [
       "<Figure size 800x600 with 1 Axes>"
      ]
     },
     "metadata": {},
     "output_type": "display_data"
    }
   ],
   "source": [
    "residuos = te_test - Prediccion\n",
    "# Crear un histograma de los residuos\n",
    "plt.figure(figsize=(8, 6))\n",
    "plt.hist(residuos, bins=30, color='green', edgecolor='black')\n",
    "plt.xlabel('Residuos')\n",
    "plt.ylabel('Frecuencia')\n",
    "plt.title('Histograma de Residuos')\n",
    "plt.show()"
   ]
  },
  {
   "cell_type": "code",
   "execution_count": null,
   "id": "71d31949-2476-40b8-b84b-34635df76177",
   "metadata": {},
   "outputs": [],
   "source": []
  }
 ],
 "metadata": {
  "kernelspec": {
   "display_name": "Python 3 (ipykernel)",
   "language": "python",
   "name": "python3"
  },
  "language_info": {
   "codemirror_mode": {
    "name": "ipython",
    "version": 3
   },
   "file_extension": ".py",
   "mimetype": "text/x-python",
   "name": "python",
   "nbconvert_exporter": "python",
   "pygments_lexer": "ipython3",
   "version": "3.11.7"
  }
 },
 "nbformat": 4,
 "nbformat_minor": 5
}
